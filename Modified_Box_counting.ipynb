{
 "cells": [
  {
   "cell_type": "markdown",
   "metadata": {},
   "source": [
    "### Modified Box-Counting Algorithm\n",
    "\n",
    "In this notebook I modify the box-counting algorithm in such a way, to estimate the fractal dimension.\n",
    "Here, the smallest box size, $s_{min}$ is defined to be comparable with a typical building size."
   ]
  },
  {
   "cell_type": "code",
   "execution_count": 59,
   "metadata": {
    "collapsed": false
   },
   "outputs": [
    {
     "name": "stdout",
     "output_type": "stream",
     "text": [
      "Populating the interactive namespace from numpy and matplotlib\n"
     ]
    }
   ],
   "source": [
    "# Import some stuff first\n",
    "import numpy as np\n",
    "import scipy\n",
    "import matplotlib\n",
    "import matplotlib.pyplot as plt\n",
    "#from code.plot_utils import plot_pretty\n",
    "from matplotlib import rcParams\n",
    "from skimage.color import rgb2gray\n",
    "import pylab as pl\n",
    "rcParams['font.family'] = 'serif'\n",
    "%matplotlib inline\n",
    "%pylab inline\n",
    "\n",
    "#plot_pretty()"
   ]
  },
  {
   "cell_type": "code",
   "execution_count": 60,
   "metadata": {
    "collapsed": true
   },
   "outputs": [],
   "source": [
    "def box_counts(x,y, n_bins, hist_range):\n",
    "    \"\"\"\n",
    "    This function uses the 2-dimensional histogram to count the number of bins \n",
    "    that contain at least one non-zero element.\n",
    "    ------------------------------------------\n",
    "    Inputs:\n",
    "    x, y: One dimensional-arrays. They contain the positions (i,j) where there is\n",
    "    a pixel of the matrix X (see next function) that contains \"something\" (buiding, street etc)\n",
    "    n_bins : Number of bins in each dimension. Since the input matrix is square, the number of bins\n",
    "    is the same in both dimensions.\n",
    "    hist_range: [[x_min, y_max], [y_min, y_max]]. The maximum and minimum limits of the bins. In practice\n",
    "    this is always [0, len(X)].\n",
    "    ------------------------------------------\n",
    "    Returns:\n",
    "    Number of boxes with non-zero counts\n",
    "    \"\"\"\n",
    "    # Get a 2-d histogram of the points x,y\n",
    "    Hist, xedg, yedg = np.histogram2d(x,y, bins=n_bins, range=hist_range, density=False)\n",
    "        \n",
    "    # Get the number of bins that contain at least one point\n",
    "    counts = np.sum(Hist>0)\n",
    "    \n",
    "    return counts"
   ]
  },
  {
   "cell_type": "code",
   "execution_count": 61,
   "metadata": {
    "collapsed": false
   },
   "outputs": [],
   "source": [
    "def fractal_dimension(X, threshold, p_min):\n",
    "    \"\"\"\n",
    "    Calculates the fractal dimension of an image in grayscale\n",
    "    ---------------------------\n",
    "    Inputs:\n",
    "    X: 2-Dimensional matrix. Each value is a pixel with values 0-1. \n",
    "    threshold: When X[i,j] < threshold, assume that \"something\" is there (building, street etc)\n",
    "    p_min : Integer, such as the minimum box size used is 2^{p_min}\n",
    "    ---------------------------\n",
    "    Returns:\n",
    "    Frac_dim: the estimated fractal dimension\n",
    "    size, counts: arrays of size p+1 that contain the boxes sizes and the number of counts \n",
    "    needed to cover the \"fractal\" per size. That is good if we want to plot and inspect\n",
    "    \"\"\"\n",
    "    \n",
    "    # Get the maximum dimension of the 2-d array X\n",
    "    M_dim = max(X.shape)\n",
    "    \n",
    "    # Get p. p is the smallest integer such that max(size(X)) <= 2P.\n",
    "    p = np.ceil((np.log(M_dim)/np.log(2.0)))\n",
    "    \n",
    "    # The integer version of it now\n",
    "    int_p = int(p) \n",
    "    \n",
    "    assert (int_p > p_min), \"p_min is larger or equal to the maximum p\"\n",
    "    \n",
    "    \n",
    "    print(\"Maximum power of 2 used:\", int_p)\n",
    "    # =========================================\n",
    "    # Number of rows and  columns of the input matrix X\n",
    "    rows = len(X[:,0])\n",
    "    cols = len(X[0,:])\n",
    "    \n",
    "    # ========================================\n",
    "    # Now create a padded square matrix, with size 2^p in each dimension\n",
    "    len_X = int(2.0**int_p) # Its length in each dimension\n",
    "    \n",
    "    #Initialize it with ones everywhere\n",
    "    X_padded = np.ones([len_X,len_X])\n",
    "    \n",
    "    # Now substitute in it the elements of the input matrix X.\n",
    "    # Matrix X has smaller (or equal) dimensions than X_padded\n",
    "    for i in range(rows):\n",
    "        for j in range(cols):\n",
    "            X_padded[i,j] = X[i,j]\n",
    "            \n",
    "    # =========================================\n",
    "    # Now find the position of pixels of X_padded with value < threshold\n",
    "    x_s = [] #Empty list for the i positions\n",
    "    y_s = [] #Empty list for the j positions\n",
    "    \n",
    "    for i in range(len_X):\n",
    "        for j in range(len_X):\n",
    "            if (X_padded[i,j]<threshold):\n",
    "                x_s.append(i)\n",
    "                y_s.append(j)\n",
    "                \n",
    "    # Transform the lists to arrays\n",
    "    x_arr = np.asarray(x_s)\n",
    "    y_arr = np.asarray(y_s)\n",
    "    \n",
    "    # Just to see that everything looks ok, let's plot here\n",
    "    # We can comment out this in later implementations, not necessary\n",
    "    pl.plot(y_arr, x_arr, '.', ms=0.02)\n",
    "    pl.show()\n",
    "    \n",
    "    # =========================================\n",
    "    # Now an array of exponents, from p to 0\n",
    "    #exponents = np.arange(int_p,-1, -1)   # Note: here I can possibly change the minimum box size, instead of zero\n",
    "    exponents = np.arange(int_p,p_min-1, -1)\n",
    "    # Box sizes, 2^i, i = [p, ..., 0]. So in pixels 2^p, ....., 1\n",
    "    sizes = 2.0**exponents \n",
    "    \n",
    "    # =========================================\n",
    "    # =========================================\n",
    "    \n",
    "    # Here perform the box counting using the 2-d histogram function\n",
    "    \n",
    "    # Limits of the histogram in all cases \n",
    "    hist_ranges = [[0,len_X], [0, len_X]]\n",
    "    \n",
    "    # Number of bins for each bin size s:\n",
    "    n_bins = 2**(int_p - exponents)\n",
    "    \n",
    "\n",
    "    \n",
    "    length = len(exponents) # the length of the arrays\n",
    "    \n",
    "  \n",
    "    # Initialize an array of counts \n",
    "    counts = np.zeros(length)\n",
    "    \n",
    "    #Now populate the counts array - run a for loop in all box sizes\n",
    "    for i in range(length):\n",
    "        num_bin = int(n_bins[i]) #Number of bins - make it integer\n",
    "        \n",
    "        print(\"Runs for bin size:\", sizes[i])\n",
    "        \n",
    "        counts[i] = box_counts(x_arr,y_arr, num_bin, hist_ranges)\n",
    "    \n",
    "    # Now perform a linear fit\n",
    "    coeffs= np.polyfit(np.log10(sizes), np.log10(counts), 1)\n",
    "    # Fractal dimension = - the slope\n",
    "    Frac_dim = - coeffs[0]\n",
    "    \n",
    "    print (\"The estimated  fractal dimension is:\", Frac_dim)\n",
    "    \n",
    "    return Frac_dim, sizes, counts"
   ]
  },
  {
   "cell_type": "code",
   "execution_count": 62,
   "metadata": {
    "collapsed": false
   },
   "outputs": [],
   "source": [
    "def min_p_ret(dist, dpi, siz_fig, build_size):\n",
    "    \n",
    "    pix_in_m = 2.0*dist/(dpi*siz_fig)\n",
    "    \n",
    "    size_in_pix = build_size/pix_in_m\n",
    "    \n",
    "    min_p = np.ceil((np.log(size_in_pix)/np.log(2.0)))\n",
    "    \n",
    "    return int(min_p)\n",
    "    "
   ]
  },
  {
   "cell_type": "code",
   "execution_count": 63,
   "metadata": {
    "collapsed": false
   },
   "outputs": [],
   "source": [
    "#dist = 1000\n",
    "#dpi = 1000\n",
    "#sig_fig = 10.0\n",
    "#build_size = 5.0\n",
    "\n",
    "#min_p = min_p_ret(dist, dpi, sig_fig, build_size)\n",
    "min_p = 1"
   ]
  },
  {
   "cell_type": "code",
   "execution_count": 64,
   "metadata": {
    "collapsed": false
   },
   "outputs": [],
   "source": [
    "# Read and convert to gray scale \n",
    "I = rgb2gray(pl.imread(\"brit.png\"))"
   ]
  },
  {
   "cell_type": "code",
   "execution_count": 65,
   "metadata": {
    "collapsed": false
   },
   "outputs": [
    {
     "name": "stdout",
     "output_type": "stream",
     "text": [
      "('Maximum power of 2 used:', 11)\n"
     ]
    },
    {
     "data": {
      "image/png": "[encoded data removed]",
      "text/plain": [
       "<Figure size 432x288 with 1 Axes>"
      ]
     },
     "metadata": {},
     "output_type": "display_data"
    },
    {
     "name": "stdout",
     "output_type": "stream",
     "text": [
      "('Runs for bin size:', 2048.0)\n",
      "('Runs for bin size:', 1024.0)\n",
      "('Runs for bin size:', 512.0)\n",
      "('Runs for bin size:', 256.0)\n",
      "('Runs for bin size:', 128.0)\n",
      "('Runs for bin size:', 64.0)\n",
      "('Runs for bin size:', 32.0)\n",
      "('Runs for bin size:', 16.0)\n",
      "('Runs for bin size:', 8.0)\n",
      "('Runs for bin size:', 4.0)\n",
      "('Runs for bin size:', 2.0)\n",
      "('The estimated  fractal dimension is:', 1.3057067556310276)\n"
     ]
    }
   ],
   "source": [
    "# Calculate the fractal dimension \n",
    "FD, siz, counts = fractal_dimension(I, 0.5,min_p)"
   ]
  },
  {
   "cell_type": "code",
   "execution_count": 66,
   "metadata": {
    "collapsed": false
   },
   "outputs": [
    {
     "data": {
      "image/png": "[encoded data removed]",
      "text/plain": [
       "<Figure size 360x324 with 1 Axes>"
      ]
     },
     "metadata": {},
     "output_type": "display_data"
    }
   ],
   "source": [
    "fig = plt.figure(figsize = (5.0,4.5))\n",
    "\n",
    "plt.scatter(siz, counts, s= 2.0, color='mediumblue')\n",
    "plt.xscale('log');plt.yscale('log')\n",
    "\n",
    "plt.xlabel('Box size, $s$ in pixels', fontsize=12)\n",
    "plt.ylabel('Number of boxes to cover the footprints, $N(s)$')\n",
    "\n",
    "plt.ylim(1,)\n",
    "\n",
    "plt.show()"
   ]
  },
  {
   "cell_type": "code",
   "execution_count": null,
   "metadata": {
    "collapsed": true
   },
   "outputs": [],
   "source": []
  },
  {
   "cell_type": "code",
   "execution_count": null,
   "metadata": {
    "collapsed": true
   },
   "outputs": [],
   "source": []
  }
 ],
 "metadata": {
  "kernelspec": {
   "display_name": "Python 2",
   "language": "python",
   "name": "python2"
  },
  "language_info": {
   "codemirror_mode": {
    "name": "ipython",
    "version": 2
   },
   "file_extension": ".py",
   "mimetype": "text/x-python",
   "name": "python",
   "nbconvert_exporter": "python",
   "pygments_lexer": "ipython2",
   "version": "2.7.13"
  }
 },
 "nbformat": 4,
 "nbformat_minor": 2
}

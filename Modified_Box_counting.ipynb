{
 "cells": [
  {
   "cell_type": "markdown",
   "metadata": {},
   "source": [
    "## Modified Box-counting algorithm \n",
    "\n",
    "### Implementation notes\n",
    "\n",
    "Here I describe my implementation of the box-counting algorithm, which is used to estimate the fractal dimension of the Urban Form.\n",
    "\n",
    "To write my code, I used elements from three sources:\n",
    "\n",
    "- https://francescoturci.net/2016/03/31/box-counting-in-numpy/\n",
    "\n",
    "- https://stackoverflow.com/questions/44793221/python-fractal-box-count-fractal-dimension\n",
    "\n",
    "The above are python implementations of the box counting algorithm.\n",
    "\n",
    "I also used elements and checked the description of this MATLAB code:\n",
    "\n",
    "- https://www.mathworks.com/matlabcentral/fileexchange/13063-boxcount?focused=5083247&tab=example\n",
    "\n",
    "(I have seen a paper ( https://ac.els-cdn.com/S1470160X16303168/1-s2.0-S1470160X16303168-main.pdf?_tid=8dab1834-b542-4ba7-b67b-3b705d6a310e&acdnat=1549146490_1fc7cf97fa0f3f57d4d1fe73fe78b24b ) using that code, so I suppose I can trust it.\n",
    "\n",
    "\n",
    "Let's give a short description of the code/algorithm; more comments on the code itsel:\n",
    "\n",
    "- The first step is to get an rgb image (such as a .png generated from the plot functions of OSMnx) and transform it to a grayscale, that is a 2-dimensional matrix with a numerical value between 0 and 1 in each point (pixel). Note the counter-intuitive fact of this transformation: regions that are darker in the original picture, get a value close to 0 and pixels that are white get a value close to 1.0.\n",
    "\n",
    "\n",
    "- Denote the matrix resulting from this process as X. The main function $\\texttt{fractal_dimension(X, threshold)}$ gets as an input this matrix and a threshold (between 0 and 1). [That will be used to binarize the matrix; as a default I use threshold = 0.5. That means that all pixels with value less than 0.5 (remember, values close to zero mean that there was a building/road etc in the original photo - in practice most pixels that represent a part of a building will have a value of 0, except some pixels in the boundaries that are a bit shaded... )].\n",
    "\n",
    "\n",
    "- This function performs the following:\n",
    "\n",
    "   1) Counts the number of 2-dimensional boxes (squares) needed to cover the pixels with a value below our threshold. The box sizes, $s$ are powers of 2. $s = 1, 2, 4, \\dots, 2^P$ (the size refers to the number of pixels in each side of the 2 dimensional box).  $P$ is the smallest integer such that max(size(X)) <= $2^P$. \n",
    "   \n",
    "  2) If the sizes of X over each dimension are smaller than $2^P$, X is padded with ones to size $2^P$ over each dimension ( for example a $320 \\times 200$ image is padded to $512 \\times 512$).\n",
    "  \n",
    "  3) To count the number of boxes of size $s$, I use the 2-d histogram function of scipy: First I find the positions in the (padded) matrix X that have a value less than the threshold. Then I get the 2 dimensional histogram of them with bins equal to size $s$. Last, I count the non-zero bins; this is the number of boxed we are looking for.\n",
    "  \n",
    "  4) Thus we get arrays of sizes $s$ and number of counts $N$, both of size $P + 1$.\n",
    "  \n",
    "  5) The box-counting fractal dimension is defined as:\n",
    "  \\begin{equation}\n",
    "  D_{box} = \\lim_{s \\to 0} \\frac{N(s)}{1/s}\n",
    "  \\end{equation}\n",
    "  In practice, we plot $N(s)$ vs $s$, we perform a linear fit and get as our estimate of the fractal dimension the inverse of the slope.\n",
    "  \n",
    " \n",
    "More details in the code...\n",
    "\n",
    "\n",
    "### Modification of the original code\n",
    "\n",
    "\n",
    "Here i modify the code, such us I calculate the FD of cities where now I set in all cases a minimum scale (resolution) typical of the building size of each city/part of city.\n",
    "\n",
    "This scales comes in through the minimum scale, $s = 2^{p_{min}}$. The scale ${p_{min}}$ is calculated as:\n",
    "\n",
    "\\begin{equation}\n",
    " 2^{p_{min}} \\sim \\mbox{building size} \\Rightarrow p_{min} \\sim \\frac{\\log (\\mbox{building size} ) }{\\log 2}\n",
    "\\end{equation}"
   ]
  },
  {
   "cell_type": "code",
   "execution_count": 1,
   "metadata": {
    "collapsed": false
   },
   "outputs": [
    {
     "name": "stdout",
     "output_type": "stream",
     "text": [
      "Populating the interactive namespace from numpy and matplotlib\n"
     ]
    }
   ],
   "source": [
    "# Import some stuff first\n",
    "import numpy as np\n",
    "import scipy\n",
    "import matplotlib\n",
    "import matplotlib.pyplot as plt\n",
    "#from code.plot_utils import plot_pretty\n",
    "from matplotlib import rcParams\n",
    "from skimage.color import rgb2gray\n",
    "import pylab as pl\n",
    "rcParams['font.family'] = 'serif'\n",
    "%matplotlib inline\n",
    "%pylab inline\n",
    "\n",
    "#plot_pretty()"
   ]
  },
  {
   "cell_type": "code",
   "execution_count": 2,
   "metadata": {
    "collapsed": true
   },
   "outputs": [],
   "source": [
    "def box_counts(x,y, n_bins, hist_range):\n",
    "    \"\"\"\n",
    "    This function uses the 2-dimensional histogram to count the number of bins \n",
    "    that contain at least one non-zero element.\n",
    "    ------------------------------------------\n",
    "    Inputs:\n",
    "    x, y: One dimensional-arrays. They contain the positions (i,j) where there is\n",
    "    a pixel of the matrix X (see next function) that contains \"something\" (buiding, street etc)\n",
    "    n_bins : Number of bins in each dimension. Since the input matrix is square, the number of bins\n",
    "    is the same in both dimensions.\n",
    "    hist_range: [[x_min, y_max], [y_min, y_max]]. The maximum and minimum limits of the bins. In practice\n",
    "    this is always [0, len(X)].\n",
    "    ------------------------------------------\n",
    "    Returns:\n",
    "    Number of boxes with non-zero counts\n",
    "    \"\"\"\n",
    "    # Get a 2-d histogram of the points x,y\n",
    "    Hist, xedg, yedg = np.histogram2d(x,y, bins=n_bins, range=hist_range, density=False)\n",
    "        \n",
    "    # Get the number of bins that contain at least one point\n",
    "    counts = np.sum(Hist>0)\n",
    "    \n",
    "    return counts"
   ]
  },
  {
   "cell_type": "code",
   "execution_count": null,
   "metadata": {
    "collapsed": true
   },
   "outputs": [],
   "source": [
    "from scipy import stats\n",
    "\n",
    "def fractal_dimension(X, threshold, p_min):\n",
    "    \"\"\"\n",
    "    Calculates the fractal dimension of an image in grayscale\n",
    "    ---------------------------\n",
    "    Inputs:\n",
    "    X: 2-Dimensional matrix. Each value is a pixel with values 0-1. \n",
    "    threshold: When X[i,j] < threshold, assume that \"something\" is there (building, street etc)\n",
    "    ---------------------------\n",
    "    Returns:\n",
    "    Frac_dim: the estimated fractal dimension\n",
    "    size, counts: arrays of size p+1 that contain the boxes sizes and the number of counts \n",
    "    needed to cover the \"fractal\" per size. That is good if we want to plot and inspect\n",
    "    \"\"\"\n",
    "    # Get the maximum dimension of the 2-d array X\n",
    "    M_dim = max(X.shape)\n",
    "    \n",
    "    # Get p. p is the smallest integer such that max(size(X)) <= 2P.\n",
    "    p = np.ceil((np.log(M_dim)/np.log(2.0)))\n",
    "    \n",
    "    # The integer version of it now\n",
    "    int_p = int(p)\n",
    "    \n",
    "    assert (int_p > p_min), \"p_min is larger or equal to the maximum p\"\n",
    "    \n",
    "    print(\"Maximum power of 2 used:\", int_p)\n",
    "    # =========================================\n",
    "    # Number of rows and  columns of the input matrix X\n",
    "    rows = len(X[:,0])\n",
    "    cols = len(X[0,:])\n",
    "    \n",
    "    # ========================================\n",
    "    # Now create a padded square matrix, with size 2^p in each dimension\n",
    "    len_X = int(2.0**int_p) # Its length in each dimension\n",
    "    \n",
    "    #Initialize it with ones everywhere\n",
    "    X_padded = np.ones([len_X,len_X])\n",
    "    \n",
    "    # Now substitute in it the elements of the input matrix X.\n",
    "    # Matrix X has smaller (or equal) dimensions than X_padded\n",
    "    for i in range(rows):\n",
    "        for j in range(cols):\n",
    "            X_padded[i,j] = X[i,j]\n",
    "            \n",
    "    # =========================================\n",
    "    # Now find the position of pixels of X_padded with value < threshold\n",
    "    x_s = [] #Empty list for the i positions\n",
    "    y_s = [] #Empty list for the j positions\n",
    "    \n",
    "    for i in range(len_X):\n",
    "        for j in range(len_X):\n",
    "            if (X_padded[i,j]<threshold):\n",
    "                x_s.append(i)\n",
    "                y_s.append(j)\n",
    "                \n",
    "    # Transform the lists to arrays\n",
    "    x_arr = np.asarray(x_s)\n",
    "    y_arr = np.asarray(y_s)\n",
    "    \n",
    "    # Just to see that everything looks ok, let's plot here\n",
    "    # We can comment out this in later implementations, not necessary\n",
    "    pl.plot(y_arr, x_arr, '.', ms=0.02)\n",
    "    pl.show()\n",
    "    \n",
    "    # =========================================\n",
    "    # Now an array of exponents, from p to 0\n",
    "    #exponents = np.arange(int_p,-1, -1)   # Note: here I can possibly change the minimum box size, instead of zero\n",
    "    exponents = np.arange(int_p,p_min-1, -1)\n",
    "    # Box sizes, 2^i, i = [p, ..., 0]. So in pixels 2^p, ....., 1\n",
    "    sizes = 2.0**exponents \n",
    "    \n",
    "    # =========================================\n",
    "    # =========================================\n",
    "    \n",
    "    # Here perform the box counting using the 2-d histogram function\n",
    "    \n",
    "    # Limits of the histogram in all cases \n",
    "    hist_ranges = [[0,len_X], [0, len_X]]\n",
    "    \n",
    "    # Number of bins for each bin size s:\n",
    "    # It is the reverse of the bin size array. In other words when the size is 2^p the number of bins is\n",
    "    # just one, when the bin size is 1, we have 2^p bins etc\n",
    "    n_bins = sizes[::-1]\n",
    "\n",
    "    \n",
    "    length = len(exponents) # the length of the arrays\n",
    "    \n",
    "  \n",
    "    # Initialize an array of counts \n",
    "    counts = np.zeros(length)\n",
    "    \n",
    "    #Now populate the counts array - run a for loop in all box sizes\n",
    "    for i in range(length):\n",
    "        num_bin = int(n_bins[i]) #Number of bins - make it integer\n",
    "        \n",
    "        print(num_bin)\n",
    "        \n",
    "        print(\"Runs for bin size:\", sizes[i])\n",
    "        \n",
    "        counts[i] = box_counts(x_arr,y_arr, num_bin, hist_ranges)\n",
    "    \n",
    "    # Now perform a linear fit\n",
    "    coeffs= np.polyfit(np.log10(sizes), np.log10(counts), 1)\n",
    "    # Fractal dimension = - the slope\n",
    "    Frac_dim = - coeffs[0]\n",
    "    \n",
    "    slope, intercept, r_value, p_value, std_err = stats.linregress(np.log10(sizes), np.log10(counts))\n",
    "    \n",
    "    #print (\"The estimated  fractal dimension is:\", Frac_dim)\n",
    "    print (\"The estimated  fractal dimension is:\", -slope)\n",
    "    \n",
    "    return Frac_dim, sizes, counts, r_value"
   ]
  },
  {
   "cell_type": "code",
   "execution_count": null,
   "metadata": {
    "collapsed": true
   },
   "outputs": [],
   "source": [
    "def min_p_ret(dist, dpi, siz_fig, build_size):\n",
    "    pix_in_m = 2.0*dist/(dpi*siz_fig)\n",
    "    size_in_pix = build_size/pix_in_m\n",
    "    min_p = np.ceil((np.log(size_in_pix)/np.log(2.0)))\n",
    "    return int(min_p)"
   ]
  },
  {
   "cell_type": "code",
   "execution_count": null,
   "metadata": {
    "collapsed": true
   },
   "outputs": [],
   "source": [
    "#dist = 1000\n",
    "#dpi = 1000\n",
    "#sig_fig = 10.0\n",
    "#build_size = 5.0\n",
    "\n",
    "#min_p = min_p_ret(dist, dpi, sig_fig, build_size)\n",
    "print min_p"
   ]
  },
  {
   "cell_type": "markdown",
   "metadata": {},
   "source": [
    "#### Calculate now the fractal dimension, using a figure"
   ]
  },
  {
   "cell_type": "code",
   "execution_count": null,
   "metadata": {
    "collapsed": true
   },
   "outputs": [],
   "source": [
    "# Read and convert to gray scale \n",
    "I = rgb2gray(pl.imread(\"Monrovia_all_20000.png\"))"
   ]
  },
  {
   "cell_type": "code",
   "execution_count": null,
   "metadata": {
    "collapsed": true
   },
   "outputs": [],
   "source": [
    "# Calculate the fractal dimension \n",
    "FD, siz, counts, r_val = fractal_dimension(I, 0.5)"
   ]
  },
  {
   "cell_type": "code",
   "execution_count": null,
   "metadata": {
    "collapsed": true
   },
   "outputs": [],
   "source": [
    "fig = plt.figure(figsize = (5.0,4.5))\n",
    "\n",
    "plt.scatter(siz, counts, s= 2.0, color='mediumblue')\n",
    "plt.xscale('log');plt.yscale('log')\n",
    "\n",
    "plt.xlabel('Box size, $s$ in pixels', fontsize=12)\n",
    "plt.ylabel('Number of boxes to cover the footprints, $N(s)$')\n",
    "\n",
    "plt.ylim(1,)\n",
    "\n",
    "plt.show()"
   ]
  },
  {
   "cell_type": "code",
   "execution_count": null,
   "metadata": {
    "collapsed": true
   },
   "outputs": [],
   "source": [
    "print(FD)"
   ]
  },
  {
   "cell_type": "code",
   "execution_count": null,
   "metadata": {
    "collapsed": true
   },
   "outputs": [],
   "source": [
    "print(r_val**2.0)"
   ]
  },
  {
   "cell_type": "code",
   "execution_count": null,
   "metadata": {
    "collapsed": true
   },
   "outputs": [],
   "source": []
  },
  {
   "cell_type": "code",
   "execution_count": null,
   "metadata": {
    "collapsed": true
   },
   "outputs": [],
   "source": []
  }
 ],
 "metadata": {
  "kernelspec": {
   "display_name": "Python 2",
   "language": "python",
   "name": "python2"
  },
  "language_info": {
   "codemirror_mode": {
    "name": "ipython",
    "version": 2
   },
   "file_extension": ".py",
   "mimetype": "text/x-python",
   "name": "python",
   "nbconvert_exporter": "python",
   "pygments_lexer": "ipython2",
   "version": "2.7.13"
  }
 },
 "nbformat": 4,
 "nbformat_minor": 2
}
